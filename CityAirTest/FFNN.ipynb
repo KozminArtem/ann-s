{
 "cells": [
  {
   "cell_type": "code",
   "execution_count": 1,
   "id": "98ffc249",
   "metadata": {},
   "outputs": [],
   "source": [
    "import matplotlib.pyplot as plt  # plots\n",
    "import numpy as np  # vectors and matrices\n",
    "import pandas as pd  # tables and data manipulations\n",
    "import seaborn as sns  # more plots\n",
    "sns.set()\n",
    "import warnings  \n",
    "warnings.filterwarnings('ignore')\n",
    "from itertools import product  # some useful functions\n",
    "import scipy.stats as scs\n",
    "from dateutil.relativedelta import relativedelta  # working with dates with style\n",
    "from scipy.optimize import minimize  # for function minimization\n",
    "from sklearn.model_selection import TimeSeriesSplit  # you have everything done for you \n",
    "from sklearn.model_selection import train_test_split\n",
    "import datetime\n",
    "from sklearn import metrics\n",
    "from tensorflow import keras\n",
    "from tensorflow.keras import regularizers"
   ]
  },
  {
   "cell_type": "code",
   "execution_count": 2,
   "id": "4632f71b",
   "metadata": {},
   "outputs": [
    {
     "name": "stdout",
     "output_type": "stream",
     "text": [
      "<class 'pandas.core.frame.DataFrame'>\n",
      "RangeIndex: 156 entries, 0 to 155\n",
      "Data columns (total 6 columns):\n",
      " #   Column  Non-Null Count  Dtype         \n",
      "---  ------  --------------  -----         \n",
      " 0   date    156 non-null    datetime64[ns]\n",
      " 1   SO2op1  156 non-null    float64       \n",
      " 2   SO2op2  156 non-null    float64       \n",
      " 3   T       156 non-null    float64       \n",
      " 4   SO2     156 non-null    float64       \n",
      " 5   NO2     156 non-null    float64       \n",
      "dtypes: datetime64[ns](1), float64(5)\n",
      "memory usage: 7.4 KB\n",
      "None\n"
     ]
    }
   ],
   "source": [
    "df_G2 = pd.read_csv('G2.csv.xls', sep = ',') \n",
    "df_G2['date'] = df_G2['date'].map(lambda x: datetime.datetime.strptime(str(x), \"%Y-%m-%d %H:%M:%S\"))\n",
    "# print(df_G2)\n",
    "print(df_G2.info())"
   ]
  },
  {
   "cell_type": "markdown",
   "id": "952b9258",
   "metadata": {},
   "source": [
    "Предварительная подготовка данных, разделение тестового набора G2 на обучающую и валидационную выборку. На которой в дальнейшем будет анализироваться результаты моделей и проводиться сравнение. Обращаю внимание что размеченная валидационная выборка не участвует в обучении моделей. Для настройки гиперпараметров на обучающей выборке используется кросс-валидация(мало данных)."
   ]
  },
  {
   "cell_type": "code",
   "execution_count": 3,
   "id": "c5e2be83",
   "metadata": {},
   "outputs": [],
   "source": [
    "from sklearn.preprocessing import StandardScaler\n",
    "scaler = StandardScaler()\n",
    "\n",
    "\n",
    "y = df_G2.dropna()['SO2']\n",
    "X = df_G2.dropna().drop(['SO2'], axis=1)\n",
    "\n",
    "X_train, X_valid, y_train, y_valid = train_test_split(X, y, test_size = 0.33)\n",
    "\n",
    "time_train = X_train.dropna()['date']\n",
    "X_train = X_train.drop(['date'], axis=1)\n",
    "time_valid = X_valid.dropna()['date']\n",
    "X_valid = X_valid.drop(['date'], axis=1)\n",
    "\n",
    "\n",
    "X_train_scaled = pd.DataFrame(scaler.fit_transform(X_train))\n",
    "X_valid_scaled = pd.DataFrame(scaler.transform(X_valid))\n",
    "list_X = X_train.columns.values.tolist()\n",
    "X_train_scaled.set_axis(list_X, axis = 'columns', inplace=True)\n",
    "X_valid_scaled.set_axis(list_X, axis = 'columns', inplace=True)\n",
    "\n",
    "\n",
    "# print(X_train_scaled)"
   ]
  },
  {
   "cell_type": "markdown",
   "id": "a8f28155",
   "metadata": {},
   "source": [
    "Масштабирование тренировочных данных - необязательно для нейронной сети.\n",
    "Для моделей MLR обязательно при условии сравнения коэффициентов.\n",
    "\n",
    "В качестве Loss функции потерь для нн был выбран MAE. \n",
    "Ранее в работах показывал превосходство над минимизацией MSE."
   ]
  },
  {
   "cell_type": "code",
   "execution_count": 32,
   "id": "96703374",
   "metadata": {},
   "outputs": [],
   "source": [
    "from keras import models\n",
    "from keras import layers\n",
    "from sklearn.datasets import make_regression\n",
    "from sklearn import preprocessing\n",
    "from sklearn.model_selection import RepeatedKFold\n",
    "kfold = RepeatedKFold(n_splits=5, n_repeats=4)\n",
    "\n",
    "# Type_error = 'mape'\n",
    "\n",
    "List_Error = ['mean_absolute_percentage_error', 'mean_squared_error']\n",
    "Type_error = 'mean_squared_error'\n",
    "\n",
    "\n",
    "\n",
    "from sklearn.model_selection import GridSearchCV\n",
    "from tensorflow.keras.wrappers.scikit_learn import KerasRegressor\n",
    "from tensorflow.keras.layers import Dropout\n",
    "\n",
    "l_feat = X_train_scaled.shape[1]\n",
    "loss_func = 'mean_absolute_error'\n",
    "\n",
    "\n",
    "\n",
    "\n",
    "\n",
    "def network_model(l_r = 0.01, d_c = 0.001, reg = -1, activ = 'tanh',\\\n",
    "                  n_layer = 1, n_neur = 3, drop = 0):\n",
    "    network = models.Sequential()\n",
    "    for j in range(n_layer):\n",
    "        network.add(layers.Dense(units = n_neur, activation = activ, input_shape=(l_feat,),\\\n",
    "                                 kernel_regularizer=regularizers.L1(10**reg)))\n",
    "        network.add(Dropout(drop))\n",
    "    network.add(layers.Dense(units = 1, activation = 'linear'))\n",
    "    network.compile(loss = loss_func, optimizer = \\\n",
    "                    keras.optimizers.Adam(learning_rate = l_r, decay = d_c),\\\n",
    "                    metrics='mean_absolute_percentage_error') \n",
    "    return network"
   ]
  },
  {
   "cell_type": "markdown",
   "id": "2ae61d65",
   "metadata": {},
   "source": [
    "Настройка гиперпараметров по поиску по сетке. Удачнее было бы использовать $\\bf optuna$. Модели простые, с малым количеством тестовых данных, поэтому поиск по сетке тоже даёт приемлемые результаты.\n",
    "Алгоритм ADAM, с затуханием decay, для сползания в локальный минимум. Функции активации стандартные, relu и tanh.\n",
    "Ранее гиперболический тангенс показывал достойные результаты на полевой калибровке. Но здесь оказалась удачнее relu."
   ]
  },
  {
   "cell_type": "code",
   "execution_count": null,
   "id": "eebeeb01",
   "metadata": {},
   "outputs": [],
   "source": [
    "FFNN = KerasRegressor(build_fn = network_model, verbose=0)\n",
    "\n",
    "\n",
    "\n",
    "parameters = {\n",
    "                'l_r': [0.001,0.01, 0.1],\n",
    "                'd_c': [0.001, 0.01,0.1],\n",
    "                'reg': [-1, -1.5,-2],\n",
    "                'n_layer': [1,2,3],\n",
    "                'n_neur': [2,3,4,5],\n",
    "                'activ': ['tanh','relu'],\n",
    "                'drop': [0, 0.2, 0.4],\n",
    "                'batch_size': [4,8,16],\n",
    "              # 'activ': ['linear', 'tanh', 'sigmoid', 'relu', 'exponential']\n",
    "                'epochs': [10,50]\n",
    "                }\n",
    "#                            scoring='neg_mean_squared_error',\n",
    "#                            scoring = \"neg_mean_absolute_percentage_error\",\n",
    "grid =  GridSearchCV(estimator = FFNN, param_grid = parameters,\\\n",
    "                     scoring = \"neg_mean_absolute_error\", cv = 5,\\\n",
    "                     n_jobs = -1)\n",
    "\n",
    "\n",
    "\n",
    "\n",
    "# grid_result = grid.fit(X_train_scaled, y_train)\n",
    "\n",
    "\n",
    "# print(grid_result.best_params_)\n",
    "# print(grid_result.best_score_)\n",
    "\n",
    "\n",
    "# # print(grid_result.cv_results_)\n",
    "\n",
    "# df_result = pd.DataFrame(grid_result.cv_results_)\n",
    "# print(df_result)\n",
    "\n",
    "# df_result.to_csv(\"GSCV/GSCV_1.csv\", index=True)\n",
    "\n",
    "\n"
   ]
  },
  {
   "cell_type": "code",
   "execution_count": 6,
   "id": "806ccfc3",
   "metadata": {},
   "outputs": [
    {
     "name": "stdout",
     "output_type": "stream",
     "text": [
      "\n",
      "GSCV 1\n",
      "       param_l_r  param_d_c  param_reg  param_n_layer  param_n_neur  \\\n",
      "9923         0.1      0.001       -2.0              2             5   \n",
      "6029         0.1      0.001       -2.0              2             3   \n",
      "7976         0.1      0.001       -2.0              2             4   \n",
      "6035         0.1      0.001       -2.0              2             5   \n",
      "6019         0.1      0.001       -1.5              1             4   \n",
      "6023         0.1      0.001       -2.0              1             5   \n",
      "10568        0.1      0.010       -2.0              2             4   \n",
      "6017         0.1      0.001       -2.0              1             3   \n",
      "7975         0.1      0.001       -1.5              2             4   \n",
      "6013         0.1      0.001       -1.5              1             2   \n",
      "\n",
      "      param_activ  param_drop  param_batch_size  param_epochs  \\\n",
      "9923         relu         0.0                16            50   \n",
      "6029         relu         0.0                 4            50   \n",
      "7976         relu         0.0                 8            50   \n",
      "6035         relu         0.0                 4            50   \n",
      "6019         relu         0.0                 4            50   \n",
      "6023         relu         0.0                 4            50   \n",
      "10568        relu         0.0                16            50   \n",
      "6017         relu         0.0                 4            50   \n",
      "7975         relu         0.0                 8            50   \n",
      "6013         relu         0.0                 4            50   \n",
      "\n",
      "       mean_test_score  std_test_score  rank_test_score  \n",
      "9923         -3.390688        2.185891                1  \n",
      "6029         -3.996634        3.589712                2  \n",
      "7976         -4.843498        3.048765                3  \n",
      "6035         -4.930366        1.424486                4  \n",
      "6019         -6.886824        4.550746                5  \n",
      "6023        -12.196868        7.584776                6  \n",
      "10568       -12.974564        6.335767                7  \n",
      "6017        -19.061636       13.563067                8  \n",
      "7975        -19.277089       27.846447                9  \n",
      "6013        -23.870177       11.108890               10  \n",
      "       param_l_r  param_d_c  param_reg  param_n_layer  param_n_neur  \\\n",
      "9878        0.01      0.001       -2.0              2             2   \n",
      "9173        0.10      0.100       -2.0              3             3   \n",
      "7338        0.10      0.100       -1.0              3             4   \n",
      "5907        0.10      0.001       -1.0              1             3   \n",
      "9166        0.10      0.100       -1.5              2             5   \n",
      "7223        0.10      0.100       -2.0              2             5   \n",
      "7332        0.10      0.100       -1.0              3             2   \n",
      "7231        0.10      0.100       -1.5              3             4   \n",
      "5905        0.10      0.001       -1.5              1             2   \n",
      "11212       0.10      0.100       -1.5              2             3   \n",
      "\n",
      "      param_activ  param_drop  param_batch_size  param_epochs  \\\n",
      "9878         relu         0.0                16            50   \n",
      "9173         relu         0.0                 8            10   \n",
      "7338         relu         0.0                 4            50   \n",
      "5907         relu         0.0                 4            10   \n",
      "9166         relu         0.0                 8            10   \n",
      "7223         relu         0.0                 4            10   \n",
      "7332         relu         0.0                 4            50   \n",
      "7231         relu         0.0                 4            10   \n",
      "5905         relu         0.0                 4            10   \n",
      "11212        relu         0.0                16            50   \n",
      "\n",
      "       mean_test_score  std_test_score  rank_test_score  \n",
      "9878       -105.157326       30.743839            11655  \n",
      "9173       -105.447652       31.182846            11656  \n",
      "7338       -105.469621       31.157674            11657  \n",
      "5907       -105.594336       31.027520            11658  \n",
      "9166       -105.883644       30.664823            11659  \n",
      "7223       -105.912079       30.676174            11660  \n",
      "7332       -105.942383       30.658533            11661  \n",
      "7231       -106.249629       30.345780            11662  \n",
      "5905       -106.556217       30.045506            11663  \n",
      "11212      -106.835948       29.773907            11664  \n"
     ]
    }
   ],
   "source": [
    "pd.set_option('display.max_rows', None)\n",
    "pd.set_option('display.max_columns', None)\n",
    "\n",
    "print()\n",
    "print(\"GSCV 1\")\n",
    "df_gscv = pd.read_csv('GSCV/GSCV_1.csv') \n",
    "\n",
    "list_column = ['param_l_r', 'param_d_c', 'param_reg',\\\n",
    "               'param_n_layer', 'param_n_neur','param_activ',\\\n",
    "               'param_drop', 'param_batch_size', 'param_epochs',\\\n",
    "               'mean_test_score','std_test_score','rank_test_score']\n",
    "df_gscv = df_gscv[list_column]\n",
    "df_gscv.sort_values(by='rank_test_score', inplace = True)\n",
    "print(df_gscv.head(10))\n",
    "print(df_gscv.tail(10))\n"
   ]
  },
  {
   "cell_type": "markdown",
   "id": "5ad27472",
   "metadata": {},
   "source": [
    "Фиксируем лучшие гиперпараметры и уточняем оставшиеся.  "
   ]
  },
  {
   "cell_type": "code",
   "execution_count": 7,
   "id": "045b732e",
   "metadata": {},
   "outputs": [],
   "source": [
    "FFNN = KerasRegressor(build_fn = network_model, verbose=0)\n",
    "\n",
    "parameters = {\n",
    "                'l_r': [0.03,0.1,0.3],\n",
    "                'd_c': [0.0003,0.001,0.003],\n",
    "                'reg': [-2,-3,-4],\n",
    "                'n_layer': [2,3],\n",
    "                'n_neur': [3,4,5],\n",
    "                'activ': ['relu'],\n",
    "#                 'drop': [0],\n",
    "                'batch_size': [4,8,16],\n",
    "              # 'activ': ['linear', 'tanh', 'sigmoid', 'relu', 'exponential']\n",
    "                'epochs': [50,100,200]\n",
    "                }\n",
    "#                            scoring='neg_mean_squared_error',\n",
    "#                            scoring = \"neg_mean_absolute_percentage_error\",\n",
    "grid =  GridSearchCV(estimator = FFNN, param_grid = parameters,\\\n",
    "                     scoring = \"neg_mean_absolute_error\", cv = 5,\\\n",
    "                     n_jobs = -1)\n",
    "\n",
    "\n",
    "\n",
    "\n",
    "# grid_result = grid.fit(X_train_scaled, y_train)\n",
    "\n",
    "\n",
    "# print(grid_result.best_params_)\n",
    "# print(grid_result.best_score_)\n",
    "\n",
    "\n",
    "# # print(grid_result.cv_results_)\n",
    "\n",
    "# df_result = pd.DataFrame(grid_result.cv_results_)\n",
    "# print(df_result)\n",
    "\n",
    "# df_result.to_csv(\"GSCV/GSCV_2.csv\", index=True)\n",
    "\n",
    "\n",
    "\n"
   ]
  },
  {
   "cell_type": "code",
   "execution_count": 8,
   "id": "4da07ca6",
   "metadata": {},
   "outputs": [
    {
     "name": "stdout",
     "output_type": "stream",
     "text": [
      "\n",
      "GSCV 2\n",
      "      param_l_r  param_d_c  param_reg  param_n_layer  param_n_neur  \\\n",
      "445        0.03      0.003         -3              3             4   \n",
      "440        0.03      0.003         -4              2             5   \n",
      "278        0.03      0.001         -4              2             5   \n",
      "772        0.03      0.001         -3              3             5   \n",
      "1429       0.10      0.003         -3              2             5   \n",
      "458        0.10      0.003         -4              2             5   \n",
      "933        0.03      0.003         -2              3             5   \n",
      "763        0.03      0.001         -3              2             5   \n",
      "942        0.10      0.003         -2              2             5   \n",
      "287        0.03      0.001         -4              3             5   \n",
      "\n",
      "     param_activ  param_batch_size  param_epochs  mean_test_score  \\\n",
      "445         relu                 4           200        -1.292600   \n",
      "440         relu                 4           200        -1.346131   \n",
      "278         relu                 4           200        -1.349744   \n",
      "772         relu                 8           200        -1.358805   \n",
      "1429        relu                16           200        -1.384706   \n",
      "458         relu                 4           200        -1.412195   \n",
      "933         relu                 8           200        -1.413767   \n",
      "763         relu                 8           200        -1.446327   \n",
      "942         relu                 8           200        -1.477674   \n",
      "287         relu                 4           200        -1.479307   \n",
      "\n",
      "      std_test_score  rank_test_score  \n",
      "445         0.205328                1  \n",
      "440         0.204009                2  \n",
      "278         0.204231                3  \n",
      "772         0.472476                4  \n",
      "1429        0.466039                5  \n",
      "458         0.556890                6  \n",
      "933         0.291885                7  \n",
      "763         0.860413                8  \n",
      "942         0.158195                9  \n",
      "287         0.215894               10  \n",
      "     param_l_r  param_d_c  param_reg  param_n_layer  param_n_neur param_activ  \\\n",
      "49         0.3     0.0003         -3              3             4        relu   \n",
      "639        0.3     0.0003         -2              3             3        relu   \n",
      "536        0.3     0.0003         -4              3             4        relu   \n",
      "258        0.3     0.0010         -2              2             5        relu   \n",
      "48         0.3     0.0003         -2              3             4        relu   \n",
      "103        0.3     0.0003         -3              3             4        relu   \n",
      "697        0.3     0.0010         -3              3             4        relu   \n",
      "210        0.3     0.0010         -2              3             4        relu   \n",
      "47         0.3     0.0003         -4              3             3        relu   \n",
      "99         0.3     0.0003         -2              3             3        relu   \n",
      "\n",
      "     param_batch_size  param_epochs  mean_test_score  std_test_score  \\\n",
      "49                  4            50       -94.958669       13.648185   \n",
      "639                 8           200       -94.961215       13.656688   \n",
      "536                 8            50       -94.961279       13.667424   \n",
      "258                 4           100       -94.966228       13.657941   \n",
      "48                  4            50       -94.969063       13.661256   \n",
      "103                 4           100       -94.969170       13.630957   \n",
      "697                 8            50       -94.977880       13.643845   \n",
      "210                 4            50       -94.979120       13.636322   \n",
      "47                  4            50       -94.989721       13.618467   \n",
      "99                  4           100       -95.002961       13.626741   \n",
      "\n",
      "     rank_test_score  \n",
      "49              1449  \n",
      "639             1450  \n",
      "536             1451  \n",
      "258             1452  \n",
      "48              1453  \n",
      "103             1454  \n",
      "697             1455  \n",
      "210             1456  \n",
      "47              1457  \n",
      "99              1458  \n"
     ]
    }
   ],
   "source": [
    "pd.set_option('display.max_rows', None)\n",
    "pd.set_option('display.max_columns', None)\n",
    "\n",
    "print()\n",
    "print(\"GSCV 2\")\n",
    "df_gscv = pd.read_csv('GSCV/GSCV_2.csv') \n",
    "\n",
    "list_column = ['param_l_r', 'param_d_c', 'param_reg',\\\n",
    "               'param_n_layer', 'param_n_neur','param_activ',\\\n",
    "               'param_batch_size', 'param_epochs',\\\n",
    "               'mean_test_score','std_test_score','rank_test_score']\n",
    "df_gscv = df_gscv[list_column]\n",
    "df_gscv.sort_values(by='rank_test_score', inplace = True)\n",
    "print(df_gscv.head(10))\n",
    "print(df_gscv.tail(10))"
   ]
  },
  {
   "cell_type": "markdown",
   "id": "9e51827d",
   "metadata": {},
   "source": [
    "Двух скрытых слоёв оказалось достаточно. Уточняем параметр регуляризации в скрытом слое."
   ]
  },
  {
   "cell_type": "code",
   "execution_count": 9,
   "id": "d3fc217f",
   "metadata": {},
   "outputs": [],
   "source": [
    "FFNN = KerasRegressor(build_fn = network_model, verbose=0)\n",
    "\n",
    "parameters = {\n",
    "                'l_r': [0.01,0.03,0.1],\n",
    "                'd_c': [0.0001,0.0003,0.001],\n",
    "                'reg': [-3,-3.5,-4],\n",
    "                'n_layer': [2],\n",
    "                'n_neur': [4,5],\n",
    "                'activ': ['relu'],\n",
    "#                 'drop': [0],\n",
    "                'batch_size': [4,8],\n",
    "              # 'activ': ['linear', 'tanh', 'sigmoid', 'relu', 'exponential']\n",
    "                'epochs': [200,400]\n",
    "                }\n",
    "#                            scoring='neg_mean_squared_error',\n",
    "#                            scoring = \"neg_mean_absolute_percentage_error\",\n",
    "grid =  GridSearchCV(estimator = FFNN, param_grid = parameters,\\\n",
    "                     scoring = \"neg_mean_absolute_error\", cv = 5,\\\n",
    "                     n_jobs = -1)\n",
    "\n",
    "\n",
    "\n",
    "\n",
    "# grid_result = grid.fit(X_train_scaled, y_train)\n",
    "\n",
    "\n",
    "# print(grid_result.best_params_)\n",
    "# print(grid_result.best_score_)\n",
    "\n",
    "\n",
    "# # print(grid_result.cv_results_)\n",
    "\n",
    "# df_result = pd.DataFrame(grid_result.cv_results_)\n",
    "# print(df_result)\n",
    "\n",
    "# df_result.to_csv(\"GSCV/GSCV_3.csv\", index=True)\n",
    "\n",
    "\n",
    "\n",
    "\n"
   ]
  },
  {
   "cell_type": "code",
   "execution_count": 10,
   "id": "0deb3600",
   "metadata": {},
   "outputs": [
    {
     "name": "stdout",
     "output_type": "stream",
     "text": [
      "\n",
      "GSCV 3\n",
      "     param_l_r  param_d_c  param_reg  param_n_neur param_activ  \\\n",
      "167       0.01     0.0003       -4.0             5        relu   \n",
      "99        0.03     0.0010       -3.0             5        relu   \n",
      "59        0.01     0.0003       -4.0             5        relu   \n",
      "105       0.10     0.0010       -3.0             5        relu   \n",
      "55        0.01     0.0003       -3.5             4        relu   \n",
      "173       0.03     0.0003       -4.0             5        relu   \n",
      "100       0.03     0.0010       -3.5             5        relu   \n",
      "205       0.03     0.0010       -3.5             4        relu   \n",
      "126       0.01     0.0001       -3.0             4        relu   \n",
      "215       0.10     0.0010       -4.0             5        relu   \n",
      "\n",
      "     param_batch_size  param_epochs  mean_test_score  std_test_score  \\\n",
      "167                 8           400        -1.241257        0.369352   \n",
      "99                  4           400        -1.264703        0.181871   \n",
      "59                  4           400        -1.289631        0.493211   \n",
      "105                 4           400        -1.311819        0.436549   \n",
      "55                  4           400        -1.317675        0.472260   \n",
      "173                 8           400        -1.321191        0.234014   \n",
      "100                 4           400        -1.373572        0.390740   \n",
      "205                 8           400        -1.456351        0.577674   \n",
      "126                 8           400        -1.459606        0.185127   \n",
      "215                 8           400        -1.469586        0.259344   \n",
      "\n",
      "     rank_test_score  \n",
      "167                1  \n",
      "99                 2  \n",
      "59                 3  \n",
      "105                4  \n",
      "55                 5  \n",
      "173                6  \n",
      "100                7  \n",
      "205                8  \n",
      "126                9  \n",
      "215               10  \n",
      "     param_l_r  param_d_c  param_reg  param_n_neur param_activ  \\\n",
      "170       0.03     0.0003       -4.0             4        relu   \n",
      "50        0.10     0.0003       -4.0             4        relu   \n",
      "158       0.10     0.0003       -4.0             4        relu   \n",
      "211       0.10     0.0010       -3.5             4        relu   \n",
      "185       0.01     0.0010       -4.0             5        relu   \n",
      "189       0.03     0.0010       -3.0             5        relu   \n",
      "154       0.03     0.0003       -3.5             5        relu   \n",
      "44        0.03     0.0003       -4.0             4        relu   \n",
      "51        0.10     0.0003       -3.0             5        relu   \n",
      "71        0.10     0.0003       -4.0             5        relu   \n",
      "\n",
      "     param_batch_size  param_epochs  mean_test_score  std_test_score  \\\n",
      "170                 8           400       -44.825130       52.699149   \n",
      "50                  4           200       -45.488942       52.166926   \n",
      "158                 8           200       -45.752434       51.955050   \n",
      "211                 8           400       -46.051006       40.903892   \n",
      "185                 8           200       -47.045911       49.710098   \n",
      "189                 8           200       -53.899810       43.547548   \n",
      "154                 8           200       -55.272916       44.185196   \n",
      "44                  4           200       -61.534341       51.379027   \n",
      "51                  4           200       -63.815721       50.581754   \n",
      "71                  4           400       -76.107202       39.561213   \n",
      "\n",
      "     rank_test_score  \n",
      "170              207  \n",
      "50               208  \n",
      "158              209  \n",
      "211              210  \n",
      "185              211  \n",
      "189              212  \n",
      "154              213  \n",
      "44               214  \n",
      "51               215  \n",
      "71               216  \n"
     ]
    }
   ],
   "source": [
    "pd.set_option('display.max_rows', None)\n",
    "pd.set_option('display.max_columns', None)\n",
    "\n",
    "print()\n",
    "print(\"GSCV 3\")\n",
    "df_gscv = pd.read_csv('GSCV/GSCV_3.csv') \n",
    "\n",
    "list_column = ['param_l_r', 'param_d_c', 'param_reg',\\\n",
    "               'param_n_neur','param_activ',\\\n",
    "               'param_batch_size', 'param_epochs',\\\n",
    "               'mean_test_score','std_test_score','rank_test_score']\n",
    "df_gscv = df_gscv[list_column]\n",
    "df_gscv.sort_values(by='rank_test_score', inplace = True)\n",
    "print(df_gscv.head(10))\n",
    "print(df_gscv.tail(10))"
   ]
  },
  {
   "cell_type": "markdown",
   "id": "07856c67",
   "metadata": {},
   "source": [
    "Построим кривую тренировки, Зависимость ошибок на метриках MAE, MSE от Epochs"
   ]
  },
  {
   "cell_type": "code",
   "execution_count": 11,
   "id": "1b40b12f",
   "metadata": {},
   "outputs": [],
   "source": [
    "min_epoch = 0\n",
    "\n",
    "def plot_loss(history, string_l = 'Loss', draw_val = False):\n",
    "    \n",
    "#     plt.figure(figsize = (16,10))\n",
    "#     plt.plot(history.history['loss'], label='Train')\n",
    "#     if draw_val:\n",
    "#         plt.plot(history.history['val_loss'], label='Valid')\n",
    "#     plt.title(string_l)\n",
    "#     plt.xlabel('Epochs')\n",
    "#     plt.ylabel('Error')   \n",
    "#     plt.legend()\n",
    "#     plt.grid(True)\n",
    "\n",
    "    figure, axis = plt.subplots(1,2) \n",
    "    axis[0].plot(history.history['mean_squared_error'][min_epoch:], label=\"Train\", linewidth=1.5, color = \"red\")\n",
    "    axis[0].plot(history.history['val_mean_squared_error'][min_epoch:], label=\"Validation\", linewidth=1.5, color = \"green\")\n",
    "    axis[0].set_title(\"MSE\")\n",
    "    axis[0].set_xlabel('Epochs')\n",
    "    axis[0].set_ylabel('MSE')\n",
    "    axis[0].set_ylim(0,25)\n",
    "    axis[0].legend(loc=\"best\")\n",
    "\n",
    "    axis[1].plot(history.history['mean_absolute_error'][min_epoch:], label=\"Train\", linewidth=1.5, color = \"red\")\n",
    "    axis[1].plot(history.history['val_mean_absolute_error'][min_epoch:], label=\"Validation\", linewidth=1.5, color = \"green\")\n",
    "    axis[1].set_title(\"MAE\")\n",
    "    axis[1].set_xlabel('Epochs')\n",
    "    axis[1].set_ylabel('MAE')\n",
    "    axis[1].set_ylim(0,3)\n",
    "    axis[1].legend(loc=\"best\")\n"
   ]
  },
  {
   "cell_type": "code",
   "execution_count": 12,
   "id": "ee45339c",
   "metadata": {},
   "outputs": [
    {
     "name": "stderr",
     "output_type": "stream",
     "text": [
      "2022-11-15 22:12:14.790218: I tensorflow/core/platform/cpu_feature_guard.cc:142] This TensorFlow binary is optimized with oneAPI Deep Neural Network Library (oneDNN) to use the following CPU instructions in performance-critical operations:  AVX2 FMA\n",
      "To enable them in other operations, rebuild TensorFlow with the appropriate compiler flags.\n",
      "2022-11-15 22:12:15.208313: I tensorflow/compiler/mlir/mlir_graph_optimization_pass.cc:185] None of the MLIR Optimization Passes are enabled (registered 2)\n"
     ]
    }
   ],
   "source": [
    "ffnn = models.Sequential()\n",
    "\n",
    "ffnn.add(layers.Dense(units = 5, activation = 'relu', input_shape=(l_feat,),\\\n",
    "                      kernel_regularizer=regularizers.L1(10**(-4))))\n",
    "ffnn.add(layers.Dense(units = 5, activation = 'relu',\\\n",
    "                      kernel_regularizer=regularizers.L1(10**(-4))))\n",
    "ffnn.add(layers.Dense(units = 1, activation = 'linear'))\n",
    "ffnn.compile(loss = 'mean_absolute_error', optimizer = \\\n",
    "             keras.optimizers.Adam(learning_rate = 0.01, decay = 0.001),\\\n",
    "             metrics=['mean_absolute_error','mean_squared_error']) \n",
    "history = ffnn.fit(X_train_scaled, y_train, verbose=0, epochs = 4000,\\\n",
    "                   batch_size = 4, validation_data = (X_valid_scaled,y_valid))"
   ]
  },
  {
   "cell_type": "code",
   "execution_count": 13,
   "id": "f9754c25",
   "metadata": {},
   "outputs": [
    {
     "name": "stdout",
     "output_type": "stream",
     "text": [
      "<keras.callbacks.History object at 0x1310677c0>\n",
      "dict_keys(['loss', 'mean_absolute_error', 'mean_squared_error', 'val_loss', 'val_mean_absolute_error', 'val_mean_squared_error'])\n"
     ]
    },
    {
     "data": {
      "image/png": "[encoded data removed]",
      "text/plain": [
       "<Figure size 432x288 with 2 Axes>"
      ]
     },
     "metadata": {},
     "output_type": "display_data"
    }
   ],
   "source": [
    "print(history)\n",
    "plot_loss(history, string_l = \"FFNN\", draw_val = True)\n",
    "print(history.history.keys())"
   ]
  },
  {
   "cell_type": "markdown",
   "id": "569806dd",
   "metadata": {},
   "source": [
    "Как видно из графиков ошибка на валидации достаточно близка к ошибки на тесте. Это говорит о хорошей сложности модели. Увеличение слоёв приведёт к переобучению. Уменьшение слоёв к недообучению.\n",
    "\n",
    "Достаточное количество эпох - 500, лучше 1000.\n",
    "Можно обойтись и меньшим но для этого надо увеличивать параметр распада для скорости обучения, при этом можем не дойти до минимума."
   ]
  },
  {
   "cell_type": "code",
   "execution_count": 16,
   "id": "abef22a5",
   "metadata": {},
   "outputs": [
    {
     "name": "stdout",
     "output_type": "stream",
     "text": [
      "Scor  \t train(G2 67%) \t valid(G2 33%)\n",
      "MAE  \t 1.23 \t \t 1.83\n",
      "MSE  \t 11.5 \t \t 25.1\n",
      "R2   \t 0.9995 \t 0.9991\n"
     ]
    }
   ],
   "source": [
    "ffnn = models.Sequential()\n",
    "\n",
    "ffnn.add(layers.Dense(units = 5, activation = 'relu', input_shape=(l_feat,),\\\n",
    "                      kernel_regularizer=regularizers.L1(10**(-4))))\n",
    "ffnn.add(layers.Dense(units = 5, activation = 'relu',\\\n",
    "                      kernel_regularizer=regularizers.L1(10**(-4))))\n",
    "ffnn.add(layers.Dense(units = 1, activation = 'linear'))\n",
    "ffnn.compile(loss = 'mean_absolute_error', optimizer = \\\n",
    "             keras.optimizers.Adam(learning_rate = 0.01, decay = 0.001),\\\n",
    "             metrics=['mean_absolute_error','mean_squared_error']) \n",
    "history = ffnn.fit(X_train_scaled, y_train, verbose=0, epochs = 1000,\\\n",
    "                   batch_size = 4, validation_data = (X_valid_scaled,y_valid))\n",
    "\n",
    "\n",
    "def print_metrics(model, X_train = X_train_scaled, X_valid = X_valid_scaled,\\\n",
    "                  y_train = y_train, y_valid = y_valid):\n",
    "    y_train_pred = model.predict(X_train).flatten()\n",
    "    y_valid_pred = model.predict(X_valid).flatten()\n",
    "    print('Scor  \\t train(G2 67%) \\t valid(G2 33%)')\n",
    "    print('MAE  \\t', round(metrics.mean_absolute_error(y_train,y_train_pred),2),\\\n",
    "          '\\t \\t', round(metrics.mean_absolute_error(y_valid,y_valid_pred),2))\n",
    "    print('MSE  \\t', round(metrics.mean_squared_error(y_train,y_train_pred),1),\\\n",
    "          '\\t \\t', round(metrics.mean_squared_error(y_valid,y_valid_pred),1))\n",
    "    print('R2   \\t', round(metrics.r2_score(y_train,y_train_pred),4),\\\n",
    "          '\\t', round(metrics.r2_score(y_valid,y_valid_pred),4))    \n",
    "\n",
    "print_metrics(ffnn)"
   ]
  },
  {
   "cell_type": "markdown",
   "id": "99347669",
   "metadata": {},
   "source": [
    "Как видим хорошее согласование между тренировкой и валидацией.\n",
    "\n",
    "Посмотрим что будет на тесте."
   ]
  },
  {
   "cell_type": "code",
   "execution_count": 17,
   "id": "93a16902",
   "metadata": {},
   "outputs": [
    {
     "name": "stdout",
     "output_type": "stream",
     "text": [
      "<class 'pandas.core.frame.DataFrame'>\n",
      "RangeIndex: 864 entries, 0 to 863\n",
      "Data columns (total 5 columns):\n",
      " #   Column  Non-Null Count  Dtype         \n",
      "---  ------  --------------  -----         \n",
      " 0   date    864 non-null    datetime64[ns]\n",
      " 1   SO2op1  864 non-null    float64       \n",
      " 2   SO2op2  864 non-null    float64       \n",
      " 3   T       864 non-null    float64       \n",
      " 4   NO2     864 non-null    float64       \n",
      "dtypes: datetime64[ns](1), float64(4)\n",
      "memory usage: 33.9 KB\n",
      "None\n"
     ]
    }
   ],
   "source": [
    "df_test = pd.read_csv('test.csv.xls', sep = ',') \n",
    "df_test['date'] = df_test['date'].map(lambda x: datetime.datetime.strptime(str(x), \"%Y-%m-%d %H:%M:%S\"))\n",
    "# print(df_test)\n",
    "print(df_test.info())"
   ]
  },
  {
   "cell_type": "markdown",
   "id": "130a2744",
   "metadata": {},
   "source": [
    "Не забываем масштабировать тест."
   ]
  },
  {
   "cell_type": "code",
   "execution_count": 18,
   "id": "8d87d883",
   "metadata": {},
   "outputs": [],
   "source": [
    "time_test = df_test.dropna()['date']\n",
    "X_test = df_test.drop(['date'], axis=1)\n",
    "\n",
    "X_test_scaled = pd.DataFrame(scaler.transform(X_test))\n",
    "\n",
    "list_X = X_train.columns.values.tolist()\n",
    "X_test_scaled.set_axis(list_X, axis = 'columns', inplace=True)\n",
    "\n",
    "\n"
   ]
  },
  {
   "cell_type": "code",
   "execution_count": 35,
   "id": "3425f08b",
   "metadata": {},
   "outputs": [
    {
     "data": {
      "text/plain": [
       "<matplotlib.collections.PathCollection at 0x13290f5b0>"
      ]
     },
     "execution_count": 35,
     "metadata": {},
     "output_type": "execute_result"
    },
    {
     "data": {
      "image/png": "[encoded data removed]",
      "text/plain": [
       "<Figure size 432x288 with 1 Axes>"
      ]
     },
     "metadata": {},
     "output_type": "display_data"
    }
   ],
   "source": [
    "plt.figure()\n",
    "plt.scatter(time_train, ffnn.predict(X_train_scaled).flatten(), color = 'black', label = 'FFNN_train')\n",
    "plt.scatter(time_train, y_train, color = 'red', label = 'FFNN')\n",
    "plt.scatter(time_valid, ffnn.predict(X_valid_scaled).flatten(), color = 'green', label = 'FFNN_valid')\n",
    "plt.scatter(time_valid, y_valid, color = 'red', label = 'FFNN')"
   ]
  },
  {
   "cell_type": "markdown",
   "id": "85767ad7",
   "metadata": {},
   "source": [
    "Простая архитектура нейронной сети лучше прогнозирует низкие целевые концентрации по сравнению с моделями MLR.\n",
    "\n",
    "Так как обучения нн сети процесс стохастический, из-за случайности начальных весов. А нам требуется относительная стабильность предсказаний обучим 11 моделей нейронных сетей. \n",
    "Посмотрим метрики для каждой сети на валидации."
   ]
  },
  {
   "cell_type": "code",
   "execution_count": 38,
   "id": "480a374b",
   "metadata": {},
   "outputs": [
    {
     "name": "stdout",
     "output_type": "stream",
     "text": [
      "Scor0\t train(G2 67%) \t valid(G2 33%)\n",
      "R2   \t 0.9998 \t 0.9998\n",
      "MSE  \t 4.5 \t \t 5.1\n",
      "Scor1\t train(G2 67%) \t valid(G2 33%)\n",
      "R2   \t 0.9978 \t 0.9971\n",
      "MSE  \t 52.1 \t \t 80.7\n",
      "Scor2\t train(G2 67%) \t valid(G2 33%)\n",
      "R2   \t 0.9994 \t 0.9992\n",
      "MSE  \t 13.2 \t \t 23.1\n",
      "Scor3\t train(G2 67%) \t valid(G2 33%)\n",
      "R2   \t 0.9993 \t 0.9992\n",
      "MSE  \t 17.3 \t \t 21.1\n",
      "Scor4\t train(G2 67%) \t valid(G2 33%)\n",
      "R2   \t -0.3165 \t -0.3244\n",
      "MSE  \t 30877.5 \t \t 36667.1\n",
      "Scor5\t train(G2 67%) \t valid(G2 33%)\n",
      "R2   \t 0.9968 \t 0.9963\n",
      "MSE  \t 74.2 \t \t 101.8\n",
      "Scor6\t train(G2 67%) \t valid(G2 33%)\n",
      "R2   \t 0.9969 \t 0.9931\n",
      "MSE  \t 73.0 \t \t 192.1\n",
      "Scor7\t train(G2 67%) \t valid(G2 33%)\n",
      "R2   \t 0.9998 \t 0.9998\n",
      "MSE  \t 5.0 \t \t 5.0\n",
      "Scor8\t train(G2 67%) \t valid(G2 33%)\n",
      "R2   \t 0.9997 \t 0.9996\n",
      "MSE  \t 6.9 \t \t 10.5\n",
      "Scor9\t train(G2 67%) \t valid(G2 33%)\n",
      "R2   \t -0.2434 \t -0.2562\n",
      "MSE  \t 29163.7 \t \t 34779.0\n",
      "Scor10\t train(G2 67%) \t valid(G2 33%)\n",
      "R2   \t -0.2304 \t -0.244\n",
      "MSE  \t 28858.2 \t \t 34441.4\n"
     ]
    },
    {
     "data": {
      "text/plain": [
       "<matplotlib.legend.Legend at 0x13191eb80>"
      ]
     },
     "execution_count": 38,
     "metadata": {},
     "output_type": "execute_result"
    },
    {
     "data": {
      "image/png": "[encoded data removed]",
      "text/plain": [
       "<Figure size 432x288 with 1 Axes>"
      ]
     },
     "metadata": {},
     "output_type": "display_data"
    }
   ],
   "source": [
    "number_model = 11\n",
    "predict = np.zeros((number_model,len(time_test)))\n",
    "\n",
    "plt.figure(\"Test FFNN\")\n",
    "for j in range(number_model):\n",
    "    ffnn = models.Sequential()\n",
    "\n",
    "    ffnn.add(layers.Dense(units = 5, activation = 'relu', input_shape=(l_feat,),\\\n",
    "                          kernel_regularizer=regularizers.L1(10**(-4))))\n",
    "    ffnn.add(layers.Dense(units = 5, activation = 'relu',\\\n",
    "                          kernel_regularizer=regularizers.L1(10**(-4))))\n",
    "    ffnn.add(layers.Dense(units = 1, activation = 'linear'))\n",
    "    ffnn.compile(loss = 'mean_absolute_error', optimizer = \\\n",
    "                 keras.optimizers.Adam(learning_rate = 0.01, decay = 0.001),\\\n",
    "                 metrics=['mean_absolute_error','mean_squared_error']) \n",
    "    history = ffnn.fit(X_train_scaled, y_train, verbose=0, epochs = 1000,\\\n",
    "                       batch_size = 4, validation_data = (X_valid_scaled,y_valid))\n",
    "    predict[j] = ffnn.predict(X_test_scaled).flatten()\n",
    "    \n",
    "    plt.plot(time_test, predict[j], label = 'FFNN' + str(j))\n",
    "    \n",
    "    y_train_pred = ffnn.predict(X_train_scaled).flatten()\n",
    "    y_valid_pred = ffnn.predict(X_valid_scaled).flatten()\n",
    "    print('Scor' + str(j) + '\\t train(G2 67%) \\t valid(G2 33%)')\n",
    "    print('R2   \\t', round(metrics.r2_score(y_train,y_train_pred),4),\\\n",
    "          '\\t', round(metrics.r2_score(y_valid,y_valid_pred),4))    \n",
    "    print('MSE  \\t', round(metrics.mean_squared_error(y_train,y_train_pred),1),\\\n",
    "      '\\t \\t', round(metrics.mean_squared_error(y_valid,y_valid_pred),1))\n",
    "    keras.backend.clear_session()\n",
    "plt.legend(loc=\"best\")"
   ]
  },
  {
   "cell_type": "markdown",
   "id": "f0eed2e5",
   "metadata": {},
   "source": [
    "По результатам метрик на валидации для 4,9 и 10 моделей (а также 6) проведём отбраковку.\n",
    "На оставшихся 7 моделях посмотрим медианное значение по прогнозу.\n",
    "Данное значение будем рассматривать в качестве предсказанного в полевых испытаниях."
   ]
  },
  {
   "cell_type": "code",
   "execution_count": 47,
   "id": "63499d95",
   "metadata": {},
   "outputs": [
    {
     "data": {
      "text/plain": [
       "[<matplotlib.lines.Line2D at 0x133e2b070>]"
      ]
     },
     "execution_count": 47,
     "metadata": {},
     "output_type": "execute_result"
    },
    {
     "data": {
      "image/png": "[encoded data removed]",
      "text/plain": [
       "<Figure size 432x288 with 1 Axes>"
      ]
     },
     "metadata": {},
     "output_type": "display_data"
    }
   ],
   "source": [
    "predict_filter = np.delete(predict,[4,6,9,10],axis=0)\n",
    "\n",
    "predict_median = np.zeros(len(time_test))\n",
    "\n",
    "for i in range(len(time_test)):\n",
    "    predict_median = np.median(predict_filter, axis = 0)\n",
    "plt.plot(time_test, predict_median)\n"
   ]
  },
  {
   "cell_type": "markdown",
   "id": "b1b42d04",
   "metadata": {},
   "source": [
    "Сравним с обычной MLR. (в Файле MLR рассматриваются также линейные модели с регуляризацией L1,L2)"
   ]
  },
  {
   "cell_type": "code",
   "execution_count": 48,
   "id": "9d9becf4",
   "metadata": {},
   "outputs": [
    {
     "name": "stdout",
     "output_type": "stream",
     "text": [
      "Scor  \t train(G2 67%) \t valid(G2 33%)\n",
      "MAE  \t 26.84 \t \t 29.13\n",
      "MSE  \t 953.0 \t \t 1097.6\n",
      "R2   \t 0.9594 \t 0.9604\n"
     ]
    }
   ],
   "source": [
    "from sklearn.linear_model import LinearRegression\n",
    "mlr = LinearRegression()\n",
    "mlr.fit(X_train_scaled, y_train)\n",
    "# plotCoefficients(mlr, X_train_scaled, \"Coefficients MLR\")\n",
    "print_metrics(mlr)"
   ]
  },
  {
   "cell_type": "markdown",
   "id": "82a90b58",
   "metadata": {},
   "source": [
    "Как видим результаты на валидации для MLR сильно хуже чем для FFNN.\n",
    "посмотрим так же результаты прогнозов на тесте."
   ]
  },
  {
   "cell_type": "code",
   "execution_count": 51,
   "id": "56c3bdea",
   "metadata": {},
   "outputs": [
    {
     "data": {
      "text/plain": [
       "[<matplotlib.lines.Line2D at 0x13387cbb0>]"
      ]
     },
     "execution_count": 51,
     "metadata": {},
     "output_type": "execute_result"
    },
    {
     "data": {
      "image/png": "[encoded data removed]",
      "text/plain": [
       "<Figure size 432x288 with 1 Axes>"
      ]
     },
     "metadata": {},
     "output_type": "display_data"
    }
   ],
   "source": [
    "plt.figure(\"MLR Results\")\n",
    "plt.plot(time_test, mlr.predict(X_test_scaled).flatten(), label = 'MLR', color = 'black')\n",
    "plt.plot(time_test, predict_median, label = 'FFNN', color = 'green')"
   ]
  },
  {
   "cell_type": "markdown",
   "id": "25d916e6",
   "metadata": {},
   "source": [
    "Внешний вид схож, посмотрим на коэффициента корреляции пирсона."
   ]
  },
  {
   "cell_type": "code",
   "execution_count": 53,
   "id": "f0e578bd",
   "metadata": {},
   "outputs": [
    {
     "name": "stdout",
     "output_type": "stream",
     "text": [
      "[[1.        0.9999452]\n",
      " [0.9999452 1.       ]]\n"
     ]
    }
   ],
   "source": [
    "print(np.corrcoef(mlr.predict(X_test_scaled).flatten(),predict_median))"
   ]
  },
  {
   "cell_type": "markdown",
   "id": "063d8294",
   "metadata": {},
   "source": [
    "Видим линейную зависимость между результатами прогноза для MLR и для FFNN.\n",
    "Что несколько удивительно. Так как нейронная сеть значительно лучше подгоняет валидационную выборку.\n",
    "В отличие от MLR, FFNN даёт нелинейное преобразование входных данных. \n",
    "\n",
    "Для того чтобы ответить какой прогноз ближе к истине в плане реальных значений SO2\n",
    "требуется калибровка в полевых испытаниях. \n",
    "\n",
    "Стоит исследовать также другие функции активации. Также провести исследование по определению необходимого времени калибровки электрохимического сенсора.  \n",
    "\n",
    "Как уже отмечалось в файле MLR полевые данные \"сильно\" другие чем данные с лаборатории."
   ]
  },
  {
   "cell_type": "code",
   "execution_count": null,
   "id": "b1694634",
   "metadata": {},
   "outputs": [],
   "source": []
  }
 ],
 "metadata": {
  "kernelspec": {
   "display_name": "Python 3 (ipykernel)",
   "language": "python",
   "name": "python3"
  },
  "language_info": {
   "codemirror_mode": {
    "name": "ipython",
    "version": 3
   },
   "file_extension": ".py",
   "mimetype": "text/x-python",
   "name": "python",
   "nbconvert_exporter": "python",
   "pygments_lexer": "ipython3",
   "version": "3.9.9"
  }
 },
 "nbformat": 4,
 "nbformat_minor": 5
}
