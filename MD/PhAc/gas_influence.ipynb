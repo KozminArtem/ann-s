{
 "cells": [
  {
   "cell_type": "markdown",
   "id": "e9ac765d",
   "metadata": {},
   "source": [
    "$$\\bf Оценка\\ изменения\\ резонансной\\ частоты\\ ячейки\\ за\\\n",
    "счёт\\ дрейфа\\ концентрации\\ для\\ различных\\ газов\\ $$"
   ]
  },
  {
   "cell_type": "markdown",
   "id": "32ef17ca",
   "metadata": {},
   "source": [
    "Модель идеального газа, c - скорость звука в среде:\n",
    "$$c = \\sqrt{\\gamma R T / M},$$\n",
    "где T - температура в К, $\\gamma - $ показатель адиабаты,  $ M - $ молярная масса газа, $R - $константа"
   ]
  },
  {
   "cell_type": "markdown",
   "id": "d1ba8433",
   "metadata": {},
   "source": [
    "В случае многокомпонентной смеси, показатель адиабаты:\n",
    "$$\\gamma = 1 + {1 \\over \\sum{n_i\\over \\gamma_i - 1}},$$\n",
    "где $\\gamma_i - $ показатель адиабаты i-ой компоненты смеси,\n",
    "а $n_i-$ доля смеси в газе "
   ]
  },
  {
   "cell_type": "markdown",
   "id": "6b10a9b2",
   "metadata": {},
   "source": [
    "В случае многокомпонентной смеси, молярная масса смеси:\n",
    "$$M = \\sum M_i * n_i,$$\n",
    "$M_i-$ молярная масса i-ой компоненты"
   ]
  },
  {
   "cell_type": "markdown",
   "id": "48dcaa43",
   "metadata": {},
   "source": [
    "Поскольку для ячейки, ожидается: $T \\propto 1/c$, то\n",
    "$$f \\propto c$$\n",
    "\n",
    "$$ {f \\over f_0} = \\sqrt{\\gamma \\over \\gamma_0}*\\sqrt{M_0 \\over M}*\\sqrt{T \\over T_0},$$\n",
    "\n",
    "где $f_0 - $ изначальная частота ячейки, а $f - $ новая частота ячейки.\n",
    "\n",
    "Как видно, уравнение факторизуется, и можно рассматривать отдельно влияние дрейфа концентрации, и отдельно влияние дрейфа температуры\n"
   ]
  },
  {
   "cell_type": "markdown",
   "id": "d0d87bfa",
   "metadata": {},
   "source": [
    "$$\\bf Проведём \\ оценку \\ для \\ элегаза \\ \\bf SF_6 $$"
   ]
  },
  {
   "cell_type": "markdown",
   "id": "dc6c693e",
   "metadata": {},
   "source": [
    "Для воздуха тогда из табличных данных (для сухого воздуха при 20 градусах):  \n",
    "\n",
    "$\\gamma_{air} = 1.4$\n",
    "\n",
    "$M_{air} = 28.97$ г/моль\n",
    "\n",
    "Для элегаза SF6 при 25 градусах(https://encyclopedia.airliquide.com/sulfur-hexafluoride#properties):  \n",
    "\n",
    "$\\gamma_{el} = 1.0984$\n",
    "\n",
    "$M_{el} = 146.06$ г/моль\n",
    "\n",
    "Для азота N2: \n",
    "\n",
    "$M_{N_2} = 28,01$ г/моль,\n",
    "\n",
    "$\\gamma_{N_2} = 1.4$ \n",
    "\n",
    "Для метана CH4:\n",
    "\n",
    "$M_{CH_4} = 16.04$ г/моль,\n",
    "\n",
    "$\\gamma_{CH_4} = 1.3$ \n",
    "\n"
   ]
  },
  {
   "cell_type": "markdown",
   "id": "03be2adc",
   "metadata": {},
   "source": [
    "По работе И.В. Шерстова, резонансные частоты (таблица 1):\n",
    "\n",
    "1766 Гц - чистый воздух \n",
    "\n",
    "1782 Гц - чистый $N_2$\n",
    "\n",
    "1777 Гц - $N_2$ (99.9%) + $SF_6$ (0.1% = 10^3 ppm)\n",
    "\n",
    "1736 Гц - $N_2$ (99%) + $SF_6$ (1% = 10^4 ppm)\n",
    "\n",
    "1438 Гц - $N_2$ (90%) + $SF_6$ (10% = 10^5 ppm)\n",
    "\n",
    "688  Гц - $N_2$ (0 %) + $SF_6$ (100% = 10^6 ppm)\n"
   ]
  },
  {
   "cell_type": "markdown",
   "id": "13928f3b",
   "metadata": {},
   "source": [
    "Рассчёты, для примеси элегаза в чистом азоте:"
   ]
  },
  {
   "cell_type": "code",
   "execution_count": 69,
   "id": "dc2e4703",
   "metadata": {},
   "outputs": [
    {
     "name": "stdout",
     "output_type": "stream",
     "text": [
      "Experiment, Hz\n",
      "[1782. 1777. 1736. 1438.  688.]\n",
      "Theory, Hz\n",
      "[1782.   1777.48 1738.16 1443.69  691.22]\n",
      "Theory - Experiment, Hz\n",
      "[0.   0.48 2.16 5.69 3.22]\n"
     ]
    }
   ],
   "source": [
    "import numpy as np\n",
    "g_N2 = 1.4\n",
    "g_SF6 = 1.0984\n",
    "m_N2 = 28.01\n",
    "m_SF6 = 146.06\n",
    "\n",
    "# резонансная частота в чистом азоте:\n",
    "freq_0 = 1782\n",
    "\n",
    "exper = np.array([1782.0, 1777.0, 1736.0, 1438.0, 688.0])\n",
    "\n",
    "# доля элегаза: 0.001 = 1000 ppm\n",
    "n = np.array([0, 0.001, 0.01, 0.1, 1])\n",
    "\n",
    "\n",
    "gamma_factor = (n / (g_SF6 - 1) + (g_N2 - n)/(g_N2 - 1) ) / ( g_N2 * (1 - n) / (g_N2 - 1) + g_N2 * n / (g_SF6 - 1) )\n",
    "\n",
    "\n",
    "mass_factor = 1 / (1 - n + (m_SF6/m_N2)*n)\n",
    "\n",
    "theory = freq_0*(np.sqrt(gamma_factor*mass_factor))\n",
    "\n",
    "print(\"Experiment, Hz\")\n",
    "print(exper)\n",
    "\n",
    "print(\"Theory, Hz\")\n",
    "print(np.round(theory,2))\n",
    "\n",
    "print(\"Theory - Experiment, Hz\")\n",
    "print(np.round(theory - exper,2))\n"
   ]
  },
  {
   "cell_type": "markdown",
   "id": "2e710cf5",
   "metadata": {},
   "source": [
    "Как видим, максимальная ошибка теории от эксперимента 5.7 гц,\n",
    "\n",
    "В данном рассчёте не учитывался дрейф температуры в ходе их эксперимента на 0.4 градуса\n",
    "\n",
    "Также, обращаю внимание на важность учёта сдвига частоты на элегазе \n",
    "из-за дрейфа концентрации элегаза в атмосфере азота. \n",
    "\n",
    "\n",
    "SF6 10^2 ppm - сдвиг на 0.5 Гц (1781.5 - теория, ? - эксперимент)\n",
    "\n",
    "SF6 10^3 ppm - сдвиг на 5 Гц (1777.5 - теория, 1777.0 - эксперимент)\n",
    "\n",
    "SF6 10^4 ppm - сдвиг на 46 Гц (1738.2 - теория, 1736.0 - эксперимент)\n",
    "\n",
    "SF6 10^5 ppm - сдвиг на 344 Гц (1443.7 - теория, 1438 - эксперимент)\n"
   ]
  },
  {
   "cell_type": "markdown",
   "id": "6ad25404",
   "metadata": {},
   "source": [
    "$$\\bf Рассчёт \\ для \\ метана \\ в \\ атмосфере \\ сухого \\ воздуха \\ при \\ 20 \\ градусах$$"
   ]
  },
  {
   "cell_type": "code",
   "execution_count": 61,
   "id": "3accc41c",
   "metadata": {},
   "outputs": [
    {
     "name": "stdout",
     "output_type": "stream",
     "text": [
      "CH4, ppm\n",
      "[0.e+00 1.e+02 1.e+03 1.e+04 1.e+05 1.e+06]\n",
      "Theory, Hz\n",
      "[1755.   1755.03 1755.31 1758.09 1787.23 2272.78]\n",
      "[0.0000e+00 3.0000e-02 3.1000e-01 3.0900e+00 3.2230e+01 5.1778e+02]\n"
     ]
    }
   ],
   "source": [
    "import numpy as np\n",
    "g_air = 1.4\n",
    "g_CH4 = 1.3\n",
    "m_air = 28.97\n",
    "m_CH4 = 16.04\n",
    "\n",
    "# резонансная частота в чистом азоте:\n",
    "freq_0 = 1755\n",
    "\n",
    "\n",
    "# доля элегаза: 0.001 = 1000 ppm\n",
    "n = np.array([0, 0.0001, 0.001, 0.01, 0.1, 1])\n",
    "\n",
    "\n",
    "gamma_factor = (n / (g_CH4 - 1) + (g_air - n)/(g_air - 1) ) / ( g_air * (1 - n) / (g_air - 1) + g_air * n / (g_CH4 - 1) )\n",
    "\n",
    "\n",
    "mass_factor = 1 / (1 - n + (m_CH4/m_air)*n)\n",
    "\n",
    "theory = freq_0*(np.sqrt(gamma_factor*mass_factor))\n",
    "\n",
    "print(\"CH4, ppm\")\n",
    "print(n*1_000_000)\n",
    "print(\"Theory, Hz\")\n",
    "print(np.round(theory,2))\n",
    "\n",
    "print(np.round(theory - 1755,2))\n"
   ]
  },
  {
   "cell_type": "markdown",
   "id": "f17f3728",
   "metadata": {},
   "source": [
    "Таким образом:\n",
    "\n",
    "CH4 10^2 ppm - сдвиг на 0.03 Гц (1766.03 - теория)\n",
    "\n",
    "CH4 10^3 ppm - сдвиг на 0.31 Гц (1766.31 - теория)\n",
    "\n",
    "CH4 10^4 ppm - сдвиг на 3.11 Гц (1769.11 - теория)\n",
    "\n",
    "CH4 10^5 ppm - сдвиг на 32.4 Гц (1798.44 - теория)\n",
    "\n",
    "\n",
    "\n",
    "Как видим для метана \n",
    "\n",
    "при 1000 ppm CH4 сдвиг частоты на 0.31 Гц\n",
    "\n",
    "при 10000 ppm CH4 сдвиг частоты на 3.11 Гц\n",
    "\n",
    "В то же время для элегаза\n",
    "\n",
    "при 1000 ppm CH4 сдвиг частоты на 5 Гц\n",
    "\n",
    "при 10000 ppm CH4 сдвиг частоты на 46 Гц"
   ]
  },
  {
   "cell_type": "markdown",
   "id": "2f64e393",
   "metadata": {},
   "source": [
    "$$\\bf Выводы$$"
   ]
  },
  {
   "cell_type": "markdown",
   "id": "20ca8ae5",
   "metadata": {},
   "source": [
    "Таким образом в задаче с метаном, \n",
    "\n",
    "вклад свдига из-за дрейфа температуры 3 Гц/градус\n",
    "\n",
    "куда более существенен чем сдвиг из-за концентрации \n",
    "\n",
    "вплоть до 10000 ppm сдвиг на 3 Гц (1% метана и 99 % cухого воздуха)\n"
   ]
  },
  {
   "cell_type": "markdown",
   "id": "4a67f9dc",
   "metadata": {},
   "source": [
    "Для элегаза учет сдвига необходим начиная уже с\n",
    "\n",
    "500 ppm сдвиг на 2.5 Гц"
   ]
  },
  {
   "cell_type": "code",
   "execution_count": 36,
   "id": "92d29549",
   "metadata": {},
   "outputs": [
    {
     "data": {
      "image/png": "[encoded data removed]",
      "text/plain": [
       "<Figure size 432x288 with 1 Axes>"
      ]
     },
     "metadata": {
      "needs_background": "light"
     },
     "output_type": "display_data"
    },
    {
     "data": {
      "image/png": "[encoded data removed]",
      "text/plain": [
       "<Figure size 432x288 with 1 Axes>"
      ]
     },
     "metadata": {
      "needs_background": "light"
     },
     "output_type": "display_data"
    },
    {
     "data": {
      "image/png": "[encoded data removed]",
      "text/plain": [
       "<Figure size 432x288 with 1 Axes>"
      ]
     },
     "metadata": {
      "needs_background": "light"
     },
     "output_type": "display_data"
    }
   ],
   "source": [
    "import numpy as np\n",
    "import matplotlib.pyplot as plt\n",
    "Q = 52\n",
    "w_d = np.arange(-4.5,4.6,0.01)\n",
    "w_0 = 1755\n",
    "\n",
    "eps = w_d/w_0 \n",
    "\n",
    "S_w0 = 1.0 / np.sqrt(Q**(-2) - Q**(-4)/4)\n",
    "\n",
    "# print(S_w0)\n",
    "\n",
    "S_w0_d = 1.0 / np.sqrt( (Q**(-2)/2 + 2*eps + eps**2 )**2 + Q**(-2) - Q**(-4)/2)\n",
    "\n",
    "# print(S_w0_d)\n",
    "\n",
    "# print(1 - S_w0_d/S_w0)\n",
    "\n",
    "\n",
    "\n",
    "\n",
    "plt.figure()\n",
    "plt.plot(w_d/3,S_w0_d/S_w0)\n",
    "plt.show()\n",
    "\n",
    "\n",
    "\n",
    "\n",
    "\n",
    "S_w0_d = 1.0 / np.sqrt( (Q**(-2)/2 + 2*eps + eps**2 )**2 + Q**(-2) - Q**(-4)/2)\n",
    "\n",
    "# print(S_w0_d)\n",
    "\n",
    "# print(1 - S_w0_d/S_w0)\n",
    "\n",
    "\n",
    "\n",
    "\n",
    "plt.figure()\n",
    "plt.plot(w_d/3, 1-S_w0_d/S_w0)\n",
    "plt.show()\n",
    "\n",
    "\n",
    "\n",
    "\n",
    "S_w0_d = 1.0 / np.sqrt( (Q**(-2)/2 + 2*eps + eps**2 )**2 + Q**(-2) * (1 - Q**(-2)/2) * (1+eps)**2)\n",
    "\n",
    "# print(S_w0_d)\n",
    "\n",
    "# print(1 - S_w0_d/S_w0)\n",
    "\n",
    "\n",
    "\n",
    "\n",
    "plt.figure()\n",
    "plt.plot(w_d/3, 1-S_w0_d/S_w0)\n",
    "plt.show()\n",
    "\n",
    "\n"
   ]
  },
  {
   "cell_type": "code",
   "execution_count": 28,
   "id": "a3984ff1",
   "metadata": {},
   "outputs": [
    {
     "ename": "NameError",
     "evalue": "name 'N' is not defined",
     "output_type": "error",
     "traceback": [
      "\u001b[0;31m---------------------------------------------------------------------------\u001b[0m",
      "\u001b[0;31mNameError\u001b[0m                                 Traceback (most recent call last)",
      "\u001b[0;32m/var/folders/4l/x39d6t210x513txrbx38qvmm0000gn/T/ipykernel_1394/1627031427.py\u001b[0m in \u001b[0;36m<module>\u001b[0;34m\u001b[0m\n\u001b[1;32m     13\u001b[0m     \u001b[0;32mreturn\u001b[0m \u001b[0mAmp\u001b[0m\u001b[0;34m*\u001b[0m\u001b[0;34m(\u001b[0m\u001b[0;36m1.0\u001b[0m\u001b[0;34m-\u001b[0m\u001b[0mnp\u001b[0m\u001b[0;34m.\u001b[0m\u001b[0mexp\u001b[0m\u001b[0;34m(\u001b[0m\u001b[0;34m-\u001b[0m\u001b[0malpha\u001b[0m\u001b[0;34m*\u001b[0m\u001b[0mx\u001b[0m\u001b[0;34m)\u001b[0m\u001b[0;34m)\u001b[0m\u001b[0;34m\u001b[0m\u001b[0;34m\u001b[0m\u001b[0m\n\u001b[1;32m     14\u001b[0m \u001b[0;34m\u001b[0m\u001b[0m\n\u001b[0;32m---> 15\u001b[0;31m \u001b[0mpopt\u001b[0m\u001b[0;34m,\u001b[0m \u001b[0mpcov\u001b[0m \u001b[0;34m=\u001b[0m \u001b[0mcurve_fit\u001b[0m\u001b[0;34m(\u001b[0m\u001b[0mfunc_theory\u001b[0m\u001b[0;34m,\u001b[0m \u001b[0mN\u001b[0m\u001b[0;34m,\u001b[0m \u001b[0mOAD_Pyro\u001b[0m\u001b[0;34m)\u001b[0m\u001b[0;34m\u001b[0m\u001b[0;34m\u001b[0m\u001b[0m\n\u001b[0m\u001b[1;32m     16\u001b[0m \u001b[0;34m\u001b[0m\u001b[0m\n\u001b[1;32m     17\u001b[0m \u001b[0mAmp\u001b[0m\u001b[0;34m,\u001b[0m\u001b[0malpha\u001b[0m \u001b[0;34m=\u001b[0m \u001b[0mpopt\u001b[0m\u001b[0;34m\u001b[0m\u001b[0;34m\u001b[0m\u001b[0m\n",
      "\u001b[0;31mNameError\u001b[0m: name 'N' is not defined"
     ]
    }
   ],
   "source": [
    "import numpy as np\n",
    "import scipy.integrate\n",
    "from scipy import signal\n",
    "import matplotlib.pyplot as plt\n",
    "import pandas as pd\n",
    "from io import StringIO\n",
    "from scipy.fft import fft, fftfreq, rfft, rfftfreq\n",
    "from scipy.optimize import curve_fit\n",
    "import math\n",
    "\n",
    "\n",
    "def func_theory(x, A, B):\n",
    "    return A + B*x\n",
    "\n",
    "popt, pcov = curve_fit(func_theory, N, OAD_Pyro)\n",
    "\n",
    "Amp,alpha = popt\n",
    "\n",
    "print('func: Amp, alpha:')\n",
    "print(Amp,alpha)\n",
    "\n",
    "\n",
    "\n",
    "point = np.arange(0, 2, 0.0001)\n",
    "ans = func_theory(point, Amp, alpha)\n",
    "# print('Fit')\n",
    "# print(ans)\n",
    "\n",
    "\n",
    "plt.subplots(sharey = True, figsize = (12, 10))\n",
    "plt.plot(N, OAD_Pyro,'o')\n",
    "plt.plot(point, ans)\n",
    "\n"
   ]
  },
  {
   "cell_type": "code",
   "execution_count": 51,
   "id": "269b598b",
   "metadata": {},
   "outputs": [
    {
     "name": "stdout",
     "output_type": "stream",
     "text": [
      "343.106219419913\n"
     ]
    }
   ],
   "source": [
    "import numpy as np\n",
    "\n",
    "g = 1.4\n",
    "m = 28.97*0.001\n",
    "T = 273 + 20\n",
    "R = 8.314\n",
    "\n",
    "print(np.sqrt(g*T*R/m))\n"
   ]
  },
  {
   "cell_type": "code",
   "execution_count": null,
   "id": "2d775d5a",
   "metadata": {},
   "outputs": [],
   "source": [
    "\n"
   ]
  }
 ],
 "metadata": {
  "kernelspec": {
   "display_name": "Python 3 (ipykernel)",
   "language": "python",
   "name": "python3"
  },
  "language_info": {
   "codemirror_mode": {
    "name": "ipython",
    "version": 3
   },
   "file_extension": ".py",
   "mimetype": "text/x-python",
   "name": "python",
   "nbconvert_exporter": "python",
   "pygments_lexer": "ipython3",
   "version": "3.9.9"
  }
 },
 "nbformat": 4,
 "nbformat_minor": 5
}
